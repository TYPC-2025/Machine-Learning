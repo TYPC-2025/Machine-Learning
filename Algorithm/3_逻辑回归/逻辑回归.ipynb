{
 "cells": [
  {
   "cell_type": "markdown",
   "source": [
    "# LR cancer(逻辑回归)"
   ],
   "metadata": {
    "collapsed": false
   }
  },
  {
   "cell_type": "code",
   "execution_count": 20,
   "outputs": [
    {
     "name": "stdout",
     "output_type": "stream",
     "text": [
      "<class 'pandas.core.frame.DataFrame'>\n",
      "RangeIndex: 699 entries, 0 to 698\n",
      "Data columns (total 11 columns):\n",
      " #   Column                       Non-Null Count  Dtype \n",
      "---  ------                       --------------  ----- \n",
      " 0   Sample code number           699 non-null    int64 \n",
      " 1   Clump Thickness              699 non-null    int64 \n",
      " 2   Uniformity of Cell Size      699 non-null    int64 \n",
      " 3   Uniformity of Cell Shape     699 non-null    int64 \n",
      " 4   Marginal Adhesion            699 non-null    int64 \n",
      " 5   Single Epithelial Cell Size  699 non-null    int64 \n",
      " 6   Bare Nuclei                  699 non-null    object\n",
      " 7   Bland Chromatin              699 non-null    int64 \n",
      " 8   Normal Nucleoli              699 non-null    int64 \n",
      " 9   Mitoses                      699 non-null    int64 \n",
      " 10  Class                        699 non-null    int64 \n",
      "dtypes: int64(10), object(1)\n",
      "memory usage: 60.2+ KB\n",
      "None\n",
      "     Sample code number  Clump Thickness  Uniformity of Cell Size  \\\n",
      "0               1000025                5                        1   \n",
      "1               1002945                5                        4   \n",
      "2               1015425                3                        1   \n",
      "3               1016277                6                        8   \n",
      "4               1017023                4                        1   \n",
      "..                  ...              ...                      ...   \n",
      "694              776715                3                        1   \n",
      "695              841769                2                        1   \n",
      "696              888820                5                       10   \n",
      "697              897471                4                        8   \n",
      "698              897471                4                        8   \n",
      "\n",
      "     Uniformity of Cell Shape  Marginal Adhesion  Single Epithelial Cell Size  \\\n",
      "0                           1                  1                            2   \n",
      "1                           4                  5                            7   \n",
      "2                           1                  1                            2   \n",
      "3                           8                  1                            3   \n",
      "4                           1                  3                            2   \n",
      "..                        ...                ...                          ...   \n",
      "694                         1                  1                            3   \n",
      "695                         1                  1                            2   \n",
      "696                        10                  3                            7   \n",
      "697                         6                  4                            3   \n",
      "698                         8                  5                            4   \n",
      "\n",
      "    Bare Nuclei  Bland Chromatin  Normal Nucleoli  Mitoses  Class  \n",
      "0             1                3                1        1      2  \n",
      "1            10                3                2        1      2  \n",
      "2             2                3                1        1      2  \n",
      "3             4                3                7        1      2  \n",
      "4             1                3                1        1      2  \n",
      "..          ...              ...              ...      ...    ...  \n",
      "694           2                1                1        1      2  \n",
      "695           1                1                1        1      2  \n",
      "696           3                8               10        2      4  \n",
      "697           4               10                6        1      4  \n",
      "698           5               10                4        1      4  \n",
      "\n",
      "[699 rows x 11 columns]\n",
      "[2 4 4 2 2 2 2 2 2 2 2 2 2 4 2 2 4 4 4 2 4 2 4 4 4 2 4 2 2 2 2 2 4 2 2 2 4\n",
      " 2 2 2 2 4 2 4 4 4 4 2 4 4 2 2 2 2 2 4 2 2 2 2 4 4 4 4 2 4 2 2 4 2 2 2 2 4\n",
      " 2 2 2 2 2 2 4 4 4 2 4 4 4 4 2 2 2 4 2 4 2 2 2 2 2 2 4 2 2 4 2 2 4 2 4 4 2\n",
      " 2 2 2 4 2 2 2 2 2 2 4 2 4 2 2 2 4 2 4 2 2 2 4 2 2 2]\n",
      "0.9854014598540146\n"
     ]
    }
   ],
   "source": [
    "import pandas as pd\n",
    "from sklearn.model_selection import train_test_split\n",
    "from sklearn.preprocessing import StandardScaler\n",
    "from sklearn.linear_model import LogisticRegression\n",
    "from sklearn.metrics import accuracy_score\n",
    "import numpy as np\n",
    "\n",
    "# 加载数据\n",
    "data = pd.read_csv(r'F:\\Maker\\系统学习\\4_机器学习及实战\\3_逻辑回归\\breast-cancer-wisconsin.csv')\n",
    "print(data.info())\n",
    "print(data)\n",
    "\n",
    "# 数据处理\n",
    "##  缺失值\n",
    "data = data.replace(to_replace = '?', value = np.NAN)\n",
    "data = data.dropna()\n",
    "\n",
    "## 获取特征或目标值\n",
    "X = data.iloc[:, 1:-1]\n",
    "y = data['Class']\n",
    "\n",
    "## 数据划分\n",
    "x_train, x_test, y_train, y_test = train_test_split(X, y, test_size=0.2, random_state = 22)\n",
    "\n",
    "# 特征工程（标准化）\n",
    "Scaler = StandardScaler()\n",
    "x_train = Scaler.fit_transform(x_train)\n",
    "x_test = Scaler.transform(x_test)\n",
    "\n",
    "# 模型训练\n",
    "model = LogisticRegression()\n",
    "model.fit(x_train, y_train)\n",
    "\n",
    "# 模型预测与评估\n",
    "y_pre = model.predict(x_test)\n",
    "print(y_pre)\n",
    "print(accuracy_score(y_test, y_pre))"
   ],
   "metadata": {
    "collapsed": false,
    "ExecuteTime": {
     "start_time": "2025-06-03T15:22:21.613457Z",
     "end_time": "2025-06-03T15:22:21.645415Z"
    }
   }
  },
  {
   "cell_type": "markdown",
   "source": [
    "# classmetric"
   ],
   "metadata": {
    "collapsed": false
   }
  },
  {
   "cell_type": "code",
   "execution_count": 22,
   "outputs": [
    {
     "name": "stdout",
     "output_type": "stream",
     "text": [
      "    恶性  良性\n",
      "恶性   3   3\n",
      "良性   0   4\n",
      "    恶性  良性\n",
      "恶性   6   0\n",
      "良性   3   1\n",
      "1.0\n",
      "0.6666666666666666\n",
      "0.5\n",
      "1.0\n",
      "0.6666666666666666\n",
      "0.8\n"
     ]
    }
   ],
   "source": [
    "from sklearn.metrics import confusion_matrix, precision_score, recall_score, f1_score\n",
    "import pandas as pd\n",
    "\n",
    "# 构建数据：真实值，预测值\n",
    "y_true = ['恶性','恶性','恶性','恶性','恶性','恶性','良性','良性','良性','良性']\n",
    "y_pre_A = ['恶性','恶性','恶性','良性','良性','良性','良性','良性','良性','良性']\n",
    "y_pre_B = ['恶性','恶性','恶性','恶性','恶性','恶性','恶性','恶性','恶性','良性']\n",
    "\n",
    "# 混淆矩阵\n",
    "A = confusion_matrix(y_true, y_pre_A, labels = ['恶性','良性'])\n",
    "print(pd.DataFrame(A, columns= ['恶性','良性'], index = ['恶性','良性']))\n",
    "\n",
    "B = confusion_matrix(y_true, y_pre_B, labels = ['恶性','良性'])\n",
    "print(pd.DataFrame(B, columns = ['恶性','良性'], index = ['恶性','良性']))\n",
    "\n",
    "# 精确率\n",
    "print(precision_score(y_true, y_pre_A, pos_label = '恶性'))\n",
    "print(precision_score(y_true, y_pre_B,pos_label = '恶性'))\n",
    "\n",
    "# 召回率\n",
    "print(recall_score(y_true, y_pre_A, pos_label='恶性'))\n",
    "print(recall_score(y_true, y_pre_B, pos_label='恶性'))\n",
    "\n",
    "# f1分数\n",
    "print(f1_score(y_true, y_pre_A, pos_label='恶性'))\n",
    "print(f1_score(y_true, y_pre_B, pos_label='恶性'))"
   ],
   "metadata": {
    "collapsed": false,
    "ExecuteTime": {
     "start_time": "2025-06-03T15:49:33.490392Z",
     "end_time": "2025-06-03T15:49:33.548529Z"
    }
   }
  },
  {
   "cell_type": "markdown",
   "source": [
    "# 模型案例——chum"
   ],
   "metadata": {
    "collapsed": false
   }
  },
  {
   "cell_type": "code",
   "execution_count": 25,
   "outputs": [
    {
     "name": "stdout",
     "output_type": "stream",
     "text": [
      "<class 'pandas.core.frame.DataFrame'>\n",
      "RangeIndex: 7043 entries, 0 to 7042\n",
      "Data columns (total 16 columns):\n",
      " #   Column             Non-Null Count  Dtype  \n",
      "---  ------             --------------  -----  \n",
      " 0   Churn              7043 non-null   object \n",
      " 1   gender             7043 non-null   object \n",
      " 2   Partner_att        7043 non-null   int64  \n",
      " 3   Dependents_att     7043 non-null   int64  \n",
      " 4   landline           7043 non-null   int64  \n",
      " 5   internet_att       7043 non-null   int64  \n",
      " 6   internet_other     7043 non-null   int64  \n",
      " 7   StreamingTV        7043 non-null   int64  \n",
      " 8   StreamingMovies    7043 non-null   int64  \n",
      " 9   Contract_Month     7043 non-null   int64  \n",
      " 10  Contract_1YR       7043 non-null   int64  \n",
      " 11  PaymentBank        7043 non-null   int64  \n",
      " 12  PaymentCreditcard  7043 non-null   int64  \n",
      " 13  PaymentElectronic  7043 non-null   int64  \n",
      " 14  MonthlyCharges     7043 non-null   float64\n",
      " 15  TotalCharges       7043 non-null   float64\n",
      "dtypes: float64(2), int64(12), object(2)\n",
      "memory usage: 880.5+ KB\n",
      "None\n",
      "  Churn  gender  Partner_att  Dependents_att  landline  internet_att  \\\n",
      "0    No  Female            1               0         0             1   \n",
      "1    No    Male            0               0         1             1   \n",
      "2   Yes    Male            0               0         1             1   \n",
      "3    No    Male            0               0         0             1   \n",
      "4   Yes  Female            0               0         1             0   \n",
      "\n",
      "   internet_other  StreamingTV  StreamingMovies  Contract_Month  Contract_1YR  \\\n",
      "0               0            0                0               1             0   \n",
      "1               0            0                0               0             1   \n",
      "2               0            0                0               1             0   \n",
      "3               0            0                0               0             1   \n",
      "4               1            0                0               1             0   \n",
      "\n",
      "   PaymentBank  PaymentCreditcard  PaymentElectronic  MonthlyCharges  \\\n",
      "0            0                  0                  1           29.85   \n",
      "1            0                  0                  0           56.95   \n",
      "2            0                  0                  0           53.85   \n",
      "3            1                  0                  0           42.30   \n",
      "4            0                  0                  1           70.70   \n",
      "\n",
      "   TotalCharges  \n",
      "0         29.85  \n",
      "1       1889.50  \n",
      "2        108.15  \n",
      "3       1840.75  \n",
      "4        151.65  \n"
     ]
    }
   ],
   "source": [
    "import pandas as pd\n",
    "import seaborn as sns\n",
    "import matplotlib.pyplot as plt\n",
    "from sklearn.model_selection import train_test_split\n",
    "from sklearn.linear_model import LogisticRegression\n",
    "from sklearn.metrics import accuracy_score, roc_auc_score, classification_report\n",
    "\n",
    "# 数据处理\n",
    "data = pd.read_csv(r'F:\\Maker\\系统学习\\4_机器学习及实战\\3_逻辑回归\\churn.csv')\n",
    "print(data.info())\n",
    "print(data.head())"
   ],
   "metadata": {
    "collapsed": false,
    "ExecuteTime": {
     "start_time": "2025-06-03T16:04:10.864849Z",
     "end_time": "2025-06-03T16:04:10.922745Z"
    }
   }
  },
  {
   "cell_type": "code",
   "execution_count": 27,
   "outputs": [
    {
     "name": "stdout",
     "output_type": "stream",
     "text": [
      "   Partner_att  Dependents_att  landline  internet_att  internet_other  \\\n",
      "0            1               0         0             1               0   \n",
      "1            0               0         1             1               0   \n",
      "2            0               0         1             1               0   \n",
      "3            0               0         0             1               0   \n",
      "4            0               0         1             0               1   \n",
      "\n",
      "   StreamingTV  StreamingMovies  Contract_Month  Contract_1YR  PaymentBank  \\\n",
      "0            0                0               1             0            0   \n",
      "1            0                0               0             1            0   \n",
      "2            0                0               1             0            0   \n",
      "3            0                0               0             1            1   \n",
      "4            0                0               1             0            0   \n",
      "\n",
      "   PaymentCreditcard  PaymentElectronic  MonthlyCharges  TotalCharges  \\\n",
      "0                  0                  1           29.85         29.85   \n",
      "1                  0                  0           56.95       1889.50   \n",
      "2                  0                  0           53.85        108.15   \n",
      "3                  0                  0           42.30       1840.75   \n",
      "4                  0                  1           70.70        151.65   \n",
      "\n",
      "   Churn_No  Churn_Yes  gender_Female  gender_Male  \n",
      "0      True      False           True        False  \n",
      "1      True      False          False         True  \n",
      "2     False       True          False         True  \n",
      "3      True      False          False         True  \n",
      "4     False       True           True        False  \n"
     ]
    }
   ],
   "source": [
    "data = pd.get_dummies(data)\n",
    "print(data.head())"
   ],
   "metadata": {
    "collapsed": false,
    "ExecuteTime": {
     "start_time": "2025-06-03T16:05:44.186951Z",
     "end_time": "2025-06-03T16:05:44.226017Z"
    }
   }
  },
  {
   "cell_type": "code",
   "execution_count": 28,
   "outputs": [
    {
     "name": "stdout",
     "output_type": "stream",
     "text": [
      "   Partner_att  Dependents_att  landline  internet_att  internet_other  \\\n",
      "0            1               0         0             1               0   \n",
      "1            0               0         1             1               0   \n",
      "2            0               0         1             1               0   \n",
      "3            0               0         0             1               0   \n",
      "4            0               0         1             0               1   \n",
      "\n",
      "   StreamingTV  StreamingMovies  Contract_Month  Contract_1YR  PaymentBank  \\\n",
      "0            0                0               1             0            0   \n",
      "1            0                0               0             1            0   \n",
      "2            0                0               1             0            0   \n",
      "3            0                0               0             1            1   \n",
      "4            0                0               1             0            0   \n",
      "\n",
      "   PaymentCreditcard  PaymentElectronic  MonthlyCharges  TotalCharges  \\\n",
      "0                  0                  1           29.85         29.85   \n",
      "1                  0                  0           56.95       1889.50   \n",
      "2                  0                  0           53.85        108.15   \n",
      "3                  0                  0           42.30       1840.75   \n",
      "4                  0                  1           70.70        151.65   \n",
      "\n",
      "   Churn_Yes  gender_Female  \n",
      "0      False           True  \n",
      "1      False          False  \n",
      "2       True          False  \n",
      "3      False          False  \n",
      "4       True           True  \n",
      "   Partner_att  Dependents_att  landline  internet_att  internet_other  \\\n",
      "0            1               0         0             1               0   \n",
      "1            0               0         1             1               0   \n",
      "2            0               0         1             1               0   \n",
      "3            0               0         0             1               0   \n",
      "4            0               0         1             0               1   \n",
      "\n",
      "   StreamingTV  StreamingMovies  Contract_Month  Contract_1YR  PaymentBank  \\\n",
      "0            0                0               1             0            0   \n",
      "1            0                0               0             1            0   \n",
      "2            0                0               1             0            0   \n",
      "3            0                0               0             1            1   \n",
      "4            0                0               1             0            0   \n",
      "\n",
      "   PaymentCreditcard  PaymentElectronic  MonthlyCharges  TotalCharges   flag  \\\n",
      "0                  0                  1           29.85         29.85  False   \n",
      "1                  0                  0           56.95       1889.50  False   \n",
      "2                  0                  0           53.85        108.15   True   \n",
      "3                  0                  0           42.30       1840.75  False   \n",
      "4                  0                  1           70.70        151.65   True   \n",
      "\n",
      "   gender_Female  \n",
      "0           True  \n",
      "1          False  \n",
      "2          False  \n",
      "3          False  \n",
      "4           True  \n",
      "flag\n",
      "False    5174\n",
      "True     1869\n",
      "Name: count, dtype: int64\n"
     ]
    }
   ],
   "source": [
    "data = data.drop(['Churn_No', 'gender_Male'], axis = 1)\n",
    "print(data.head())\n",
    "\n",
    "data = data.rename(columns={'Churn_Yes':'flag'})\n",
    "print(data.head())\n",
    "print(data.flag.value_counts())"
   ],
   "metadata": {
    "collapsed": false,
    "ExecuteTime": {
     "start_time": "2025-06-03T16:08:08.048574Z",
     "end_time": "2025-06-03T16:08:08.106406Z"
    }
   }
  },
  {
   "cell_type": "code",
   "execution_count": 29,
   "outputs": [
    {
     "data": {
      "text/plain": "<Figure size 640x480 with 1 Axes>",
      "image/png": "[encoded data removed]"
     },
     "metadata": {},
     "output_type": "display_data"
    }
   ],
   "source": [
    "# 特征工程\n",
    "sns.countplot(data = data, y = 'Contract_Month', hue = 'flag')\n",
    "plt.show()"
   ],
   "metadata": {
    "collapsed": false,
    "ExecuteTime": {
     "start_time": "2025-06-03T16:09:29.656467Z",
     "end_time": "2025-06-03T16:09:30.032481Z"
    }
   }
  },
  {
   "cell_type": "code",
   "execution_count": 31,
   "outputs": [
    {
     "name": "stdout",
     "output_type": "stream",
     "text": [
      "0.7877927608232789\n",
      "--------------------------------------------------\n",
      "0.6779637810328347\n",
      "--------------------------------------------------\n",
      "              precision    recall  f1-score   support\n",
      "\n",
      "       False       0.82      0.91      0.86      1035\n",
      "        True       0.65      0.44      0.53       374\n",
      "\n",
      "    accuracy                           0.79      1409\n",
      "   macro avg       0.73      0.68      0.69      1409\n",
      "weighted avg       0.77      0.79      0.77      1409\n",
      "\n"
     ]
    }
   ],
   "source": [
    "x = data[['PaymentElectronic','Contract_Month','internet_other']]\n",
    "y = data['flag']\n",
    "\n",
    "x_train, x_test, y_train, y_test = train_test_split(x, y, stratify=y, test_size=0.2, random_state=22)\n",
    "\n",
    "# 模型训练\n",
    "LR = LogisticRegression()\n",
    "LR.fit(x_train, y_train)\n",
    "\n",
    "# 模型评估\n",
    "y_pre = LR.predict(x_test)\n",
    "print(accuracy_score(y_test, y_pre))\n",
    "print('-'*50)\n",
    "print(roc_auc_score(y_test, y_pre))\n",
    "print('-'*50)\n",
    "print(classification_report(y_test, y_pre))"
   ],
   "metadata": {
    "collapsed": false,
    "ExecuteTime": {
     "start_time": "2025-06-03T16:15:02.111308Z",
     "end_time": "2025-06-03T16:15:02.178923Z"
    }
   }
  },
  {
   "cell_type": "code",
   "execution_count": null,
   "outputs": [],
   "source": [],
   "metadata": {
    "collapsed": false
   }
  }
 ],
 "metadata": {
  "kernelspec": {
   "display_name": "Python 3",
   "language": "python",
   "name": "python3"
  },
  "language_info": {
   "codemirror_mode": {
    "name": "ipython",
    "version": 2
   },
   "file_extension": ".py",
   "mimetype": "text/x-python",
   "name": "python",
   "nbconvert_exporter": "python",
   "pygments_lexer": "ipython2",
   "version": "2.7.6"
  }
 },
 "nbformat": 4,
 "nbformat_minor": 0
}
