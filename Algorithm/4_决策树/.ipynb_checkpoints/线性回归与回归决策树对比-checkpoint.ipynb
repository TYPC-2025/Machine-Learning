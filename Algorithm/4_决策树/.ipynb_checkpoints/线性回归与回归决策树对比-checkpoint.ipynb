{
 "cells": [
  {
   "cell_type": "markdown",
   "source": [
    "线性回归与回归决策树对比"
   ],
   "metadata": {
    "collapsed": false
   }
  },
  {
   "cell_type": "code",
   "execution_count": 1,
   "outputs": [],
   "source": [
    "import numpy as np\n",
    "import pandas as pd\n",
    "from sklearn.tree import DecisionTreeClassifier # 回归决策树\n",
    "from sklearn.linear_model import LinearRegression\n",
    "import matplotlib.pyplot as plt\n",
    "\n",
    "def Regression_Classification():\n",
    "    # 准备数据\n",
    "    x = np.array(list(range(1,11))).reshape(-1,1)\n",
    "    y = np.array([5.56,5.70,5.91,6.40,6.80,7.05,8.90,8.70,9.00,9.05])\n",
    "    print('x->\\n',x)\n",
    "    print('y->\\n',y)\n",
    "    # 实例化模型  模型训练\n",
    "    model1 = DecisionTreeClassifier(max_depth=1)\n",
    "    model2 = DecisionTreeClassifier(max_depth=3)\n",
    "    model3 = LinearRegression()\n",
    "    model1.fit(x,y)\n",
    "    model2.fit(x,y)\n",
    "    model3.fit(x,y)\n",
    "\n",
    "    # 模型预测  等差数组-按照间隔\n",
    "    x_test = np.arange(0.0,10.0,0.01).reshape(-1,1)\n",
    "    y_pre1 = model1.predict(x_test)\n",
    "    y_pre2 = model2.predict(x_test)\n",
    "    y_pre3 = model3.predict(x_test)\n",
    "    print(y_pre1.shape,y_pre2.shape,y_pre3.shape)\n",
    "\n",
    "    # 结果可视化\n",
    "    plt.figure(figsize = (10,6),dpi = 100)\n",
    "    plt.scatter(x, y, label = \"data\")\n",
    "\n",
    "    plt.plot(x_test,y_pre1,label = 'max_depth = 1')\n",
    "    plt.plot(x_test, y_pre2, label = \"max_depth = 3\")\n",
    "    plt.plot(x_test,y_pre3,label = 'linear')\n",
    "    plt.xlabel('data')\n",
    "    plt.ylabel('data')\n",
    "    plt.title('DecisionTreeRegressor')\n",
    "    plt.legend()\n",
    "    plt.show()"
   ],
   "metadata": {
    "collapsed": false,
    "ExecuteTime": {
     "start_time": "2025-05-19T09:38:41.588695Z",
     "end_time": "2025-05-19T09:38:45.794347Z"
    }
   }
  }
 ],
 "metadata": {
  "kernelspec": {
   "display_name": "Python 3",
   "language": "python",
   "name": "python3"
  },
  "language_info": {
   "codemirror_mode": {
    "name": "ipython",
    "version": 2
   },
   "file_extension": ".py",
   "mimetype": "text/x-python",
   "name": "python",
   "nbconvert_exporter": "python",
   "pygments_lexer": "ipython2",
   "version": "2.7.6"
  }
 },
 "nbformat": 4,
 "nbformat_minor": 0
}
